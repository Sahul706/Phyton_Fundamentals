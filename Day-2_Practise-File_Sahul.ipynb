{
 "cells": [
  {
   "cell_type": "code",
   "execution_count": null,
   "metadata": {},
   "outputs": [],
   "source": [
    "# Introduction to Strings"
   ]
  },
  {
   "cell_type": "code",
   "execution_count": null,
   "metadata": {},
   "outputs": [],
   "source": [
    "# Title, Lower and Upper Case Format Example"
   ]
  },
  {
   "cell_type": "code",
   "execution_count": 34,
   "metadata": {},
   "outputs": [
    {
     "name": "stdout",
     "output_type": "stream",
     "text": [
      "Sahul\n"
     ]
    }
   ],
   "source": [
    "First_Name = 'sahul'\n",
    "print(First_Name.title()) # Checked the output of one Word"
   ]
  },
  {
   "cell_type": "code",
   "execution_count": 38,
   "metadata": {},
   "outputs": [
    {
     "name": "stdout",
     "output_type": "stream",
     "text": [
      "Sahul Hameed\n"
     ]
    }
   ],
   "source": [
    "First_Name = 'sahul'\n",
    "Last_Name = 'hameed'\n",
    "Full_Name = f\"{First_Name} {Last_Name}\"\n",
    "print(Full_Name.title()) # Checked the output of two word"
   ]
  },
  {
   "cell_type": "code",
   "execution_count": 39,
   "metadata": {},
   "outputs": [
    {
     "name": "stdout",
     "output_type": "stream",
     "text": [
      "sahul hameed\n"
     ]
    }
   ],
   "source": [
    "First_Name = 'sahul'\n",
    "Last_Name = 'hameed'\n",
    "Full_Name = f\"{First_Name} {Last_Name}\"\n",
    "print(Full_Name.lower()) # Checked the output of two word in Lower Case"
   ]
  },
  {
   "cell_type": "code",
   "execution_count": 40,
   "metadata": {},
   "outputs": [
    {
     "name": "stdout",
     "output_type": "stream",
     "text": [
      "SAHUL HAMEED\n"
     ]
    }
   ],
   "source": [
    "First_Name = 'sahul'\n",
    "Last_Name = 'hameed'\n",
    "Full_Name = f\"{First_Name} {Last_Name}\"\n",
    "print(Full_Name.upper()) # Checked the output of two word in Upper Case"
   ]
  },
  {
   "cell_type": "code",
   "execution_count": 42,
   "metadata": {},
   "outputs": [
    {
     "name": "stdout",
     "output_type": "stream",
     "text": [
      "Hameed Sahul\n"
     ]
    }
   ],
   "source": [
    "First_Name = 'sahul'\n",
    "Last_Name = 'hameed'\n",
    "Full_Name = f\"{Last_Name} {First_Name}\"\n",
    "print(Full_Name.title()) # Checked the output of two word by modifying the place holders"
   ]
  },
  {
   "cell_type": "code",
   "execution_count": null,
   "metadata": {},
   "outputs": [],
   "source": []
  },
  {
   "cell_type": "code",
   "execution_count": null,
   "metadata": {},
   "outputs": [],
   "source": [
    "# Adding WhiteSpaces to the String"
   ]
  },
  {
   "cell_type": "code",
   "execution_count": 11,
   "metadata": {},
   "outputs": [
    {
     "name": "stdout",
     "output_type": "stream",
     "text": [
      "a \tb \tc\n"
     ]
    }
   ],
   "source": [
    "print ('a','\\tb','\\tc') # Output of character with a Tab Space in between\n"
   ]
  },
  {
   "cell_type": "code",
   "execution_count": 12,
   "metadata": {},
   "outputs": [
    {
     "name": "stdout",
     "output_type": "stream",
     "text": [
      "a \n",
      "b \n",
      "c\n"
     ]
    }
   ],
   "source": [
    "print ('a','\\nb','\\nc') # Output of character on new line of each one"
   ]
  },
  {
   "cell_type": "code",
   "execution_count": null,
   "metadata": {},
   "outputs": [],
   "source": []
  },
  {
   "cell_type": "code",
   "execution_count": null,
   "metadata": {},
   "outputs": [],
   "source": [
    "# Removing the WhiteSpaces in the String"
   ]
  },
  {
   "cell_type": "code",
   "execution_count": 16,
   "metadata": {},
   "outputs": [
    {
     "name": "stdout",
     "output_type": "stream",
     "text": [
      "Don't leave out any spaces\n"
     ]
    }
   ],
   "source": [
    "a = '   Don\\'t leave out any spaces'  # Removing the spaces on the left side of the string\n",
    "print (a.lstrip())"
   ]
  },
  {
   "cell_type": "code",
   "execution_count": 17,
   "metadata": {},
   "outputs": [
    {
     "name": "stdout",
     "output_type": "stream",
     "text": [
      "   Don't leave out any spaces\n"
     ]
    }
   ],
   "source": [
    "a = '   Don\\'t leave out any spaces   '  # Removing the spaces on the Right side of the string\n",
    "print (a.rstrip())"
   ]
  },
  {
   "cell_type": "code",
   "execution_count": 18,
   "metadata": {},
   "outputs": [
    {
     "name": "stdout",
     "output_type": "stream",
     "text": [
      "Don't leave out any spaces\n"
     ]
    }
   ],
   "source": [
    "a = '   Don\\'t leave out any spaces   '  # Removing the spaces on the Both side of the string\n",
    "print (a.strip())"
   ]
  },
  {
   "cell_type": "code",
   "execution_count": null,
   "metadata": {},
   "outputs": [],
   "source": []
  }
 ],
 "metadata": {
  "kernelspec": {
   "display_name": "Python 3",
   "language": "python",
   "name": "python3"
  },
  "language_info": {
   "codemirror_mode": {
    "name": "ipython",
    "version": 3
   },
   "file_extension": ".py",
   "mimetype": "text/x-python",
   "name": "python",
   "nbconvert_exporter": "python",
   "pygments_lexer": "ipython3",
   "version": "3.7.6"
  }
 },
 "nbformat": 4,
 "nbformat_minor": 4
}
